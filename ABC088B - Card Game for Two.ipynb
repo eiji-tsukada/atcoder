{
 "cells": [
  {
   "cell_type": "markdown",
   "metadata": {},
   "source": [
    "問題文\n",
    "N\n",
    " 枚のカードがあります. \n",
    "i\n",
    " 枚目のカードには, \n",
    "a\n",
    "i\n",
    " という数が書かれています.\n",
    "Alice と Bob は, これらのカードを使ってゲームを行います. ゲームでは, Alice と Bob が交互に 1 枚ずつカードを取っていきます. Alice が先にカードを取ります.\n",
    "2 人がすべてのカードを取ったときゲームは終了し, 取ったカードの数の合計がその人の得点になります. 2 人とも自分の得点を最大化するように最適な戦略を取った時, Alice は Bob より何点多く取るか求めてください.\n",
    "\n",
    "制約\n",
    "N\n",
    " は \n",
    "1\n",
    " 以上 \n",
    "100\n",
    " 以下の整数\n",
    "a\n",
    "i\n",
    " \n",
    "(\n",
    "1\n",
    "≤\n",
    "i\n",
    "≤\n",
    "N\n",
    ")\n",
    " は \n",
    "1\n",
    " 以上 \n",
    "100\n",
    " 以下の整数\n",
    "入力\n",
    "入力は以下の形式で標準入力から与えられる.\n",
    "\n",
    "N\n",
    "\n",
    "a\n",
    "1\n",
    " \n",
    "a\n",
    "2\n",
    " \n",
    "a\n",
    "3\n",
    " \n",
    ".\n",
    ".\n",
    ".\n",
    " \n",
    "a\n",
    "N\n",
    "\n",
    "出力\n",
    "両者が最適な戦略を取った時, Alice は Bob より何点多く取るかを出力してください.\n",
    "\n"
   ]
  },
  {
   "cell_type": "code",
   "execution_count": 2,
   "metadata": {},
   "outputs": [
    {
     "name": "stdout",
     "output_type": "stream",
     "text": [
      "4\n",
      "20 18 2 18\n",
      "18\n"
     ]
    }
   ],
   "source": [
    "n = int(input())\n",
    "nums = list(map(int, input().split()))\n",
    "alice = 0\n",
    "bob = 0\n",
    "\n",
    "while len(nums) > 0:\n",
    "    try:\n",
    "        alice += nums.pop(nums.index(max(nums)))\n",
    "        bob += nums.pop(nums.index(max(nums)))\n",
    "    except ValueError:\n",
    "        break\n",
    "    \n",
    "print(alice - bob)"
   ]
  },
  {
   "cell_type": "code",
   "execution_count": null,
   "metadata": {},
   "outputs": [],
   "source": []
  }
 ],
 "metadata": {
  "kernelspec": {
   "display_name": "Python 3",
   "language": "python",
   "name": "python3"
  },
  "language_info": {
   "codemirror_mode": {
    "name": "ipython",
    "version": 3
   },
   "file_extension": ".py",
   "mimetype": "text/x-python",
   "name": "python",
   "nbconvert_exporter": "python",
   "pygments_lexer": "ipython3",
   "version": "3.7.5"
  }
 },
 "nbformat": 4,
 "nbformat_minor": 2
}
