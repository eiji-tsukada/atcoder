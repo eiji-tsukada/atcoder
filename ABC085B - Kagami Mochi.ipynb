{
 "cells": [
  {
   "cell_type": "markdown",
   "metadata": {},
   "source": [
    "問題文\n",
    "X\n",
    " 段重ねの鏡餅 \n",
    "(\n",
    "X\n",
    "≥\n",
    "1\n",
    ")\n",
    " とは、\n",
    "X\n",
    " 枚の円形の餅を縦に積み重ねたものであって、どの餅もその真下の餅より直径が小さい（一番下の餅を除く）もののことです。例えば、直径 \n",
    "10\n",
    "、\n",
    "8\n",
    "、\n",
    "6\n",
    " センチメートルの餅をこの順に下から積み重ねると \n",
    "3\n",
    " 段重ねの鏡餅になり、餅を一枚だけ置くと \n",
    "1\n",
    " 段重ねの鏡餅になります。\n",
    "\n",
    "ダックスフンドのルンルンは \n",
    "N\n",
    " 枚の円形の餅を持っていて、そのうち \n",
    "i\n",
    " 枚目の餅の直径は \n",
    "d\n",
    "i\n",
    " センチメートルです。これらの餅のうち一部または全部を使って鏡餅を作るとき、最大で何段重ねの鏡餅を作ることができるでしょうか。\n",
    "\n",
    "制約\n",
    "1\n",
    "≤\n",
    "N\n",
    "≤\n",
    "100\n",
    "1\n",
    "≤\n",
    "d\n",
    "i\n",
    "≤\n",
    "100\n",
    "入力値はすべて整数である。\n",
    "入力\n",
    "入力は以下の形式で標準入力から与えられる。\n",
    "\n",
    "N\n",
    "\n",
    "d\n",
    "1\n",
    "\n",
    ":\n",
    "\n",
    "d\n",
    "N\n",
    "\n",
    "出力\n",
    "作ることのできる鏡餅の最大の段数を出力せよ。"
   ]
  },
  {
   "cell_type": "markdown",
   "metadata": {},
   "source": [
    "Test Inputs 1:\n",
    "4\n",
    "10\n",
    "8\n",
    "8\n",
    "6\n",
    "\n",
    "Expected Output 1: \n",
    "3\n",
    "\n",
    "Test Inputs 2:\n",
    "3\n",
    "15\n",
    "15\n",
    "15\n",
    "\n",
    "Expected Output 2:\n",
    "1\n",
    "\n",
    "Test Inputs 3:\n",
    "7\n",
    "50\n",
    "30\n",
    "50\n",
    "100\n",
    "50\n",
    "80\n",
    "30\n",
    "\n",
    "Expected Output 3:\n",
    "4"
   ]
  },
  {
   "cell_type": "code",
   "execution_count": 12,
   "metadata": {},
   "outputs": [
    {
     "name": "stdout",
     "output_type": "stream",
     "text": [
      "4\n",
      "10\n",
      "8\n",
      "8\n",
      "6\n",
      "3\n"
     ]
    }
   ],
   "source": [
    "n = int(input())\n",
    "d = list(set([int(input()) for _ in range(n)]))\n",
    "kagami_mochi = []\n",
    "kagami_mochi.append(d.pop(d.index(max(d))))\n",
    "while len(d) > 0:\n",
    "    if kagami_mochi[-1] > max(d):\n",
    "        kagami_mochi.append(d.pop(d.index(max(d))))\n",
    "        \n",
    "print(len(kagami_mochi))\n",
    "\n",
    "# print(d)"
   ]
  },
  {
   "cell_type": "code",
   "execution_count": null,
   "metadata": {},
   "outputs": [],
   "source": []
  }
 ],
 "metadata": {
  "kernelspec": {
   "display_name": "Python 3",
   "language": "python",
   "name": "python3"
  },
  "language_info": {
   "codemirror_mode": {
    "name": "ipython",
    "version": 3
   },
   "file_extension": ".py",
   "mimetype": "text/x-python",
   "name": "python",
   "nbconvert_exporter": "python",
   "pygments_lexer": "ipython3",
   "version": "3.7.5"
  }
 },
 "nbformat": 4,
 "nbformat_minor": 2
}
